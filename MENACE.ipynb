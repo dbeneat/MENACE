{
 "cells": [
  {
   "cell_type": "markdown",
   "metadata": {},
   "source": [
    "# MENACE (Matchbox Educable Noughts and Crosses Engine)"
   ]
  },
  {
   "cell_type": "code",
   "execution_count": 1,
   "metadata": {},
   "outputs": [],
   "source": [
    "from random import choice\n",
    "import matplotlib.pyplot as plt"
   ]
  },
  {
   "cell_type": "code",
   "execution_count": 2,
   "metadata": {},
   "outputs": [],
   "source": [
    "def winning(state,p):\n",
    "    for x in [[0,1,2],[3,4,5],[6,7,8],[0,3,6],[1,4,7],[2,3,8],[0,4,8],[2,4,6]]:\n",
    "        if state[x[0]] == p and state[x[1]] == p and state[x[2]] == p:\n",
    "            return True\n",
    "    return False"
   ]
  },
  {
   "cell_type": "code",
   "execution_count": 3,
   "metadata": {},
   "outputs": [],
   "source": [
    "class matchbox():\n",
    "    def __init__(self,state):\n",
    "        self.beads = [i for i in range(9) if state[i]==0]\n",
    "        self.selected = None\n",
    "    def pick_bead(self):\n",
    "        if len(self.beads) == 0:\n",
    "            return None\n",
    "        self.selected = choice(self.beads)\n",
    "        return self.selected\n",
    "    def reward(self):\n",
    "        pass\n",
    "        #self.beads.append(self.selected)\n",
    "    def try_punish(self):\n",
    "        if len(self.beads) == 0:\n",
    "            return False\n",
    "        self.beads.remove(self.selected)\n",
    "        return True\n",
    "    def pr(self):\n",
    "        print(self.beads, self.selected)"
   ]
  },
  {
   "cell_type": "code",
   "execution_count": 4,
   "metadata": {},
   "outputs": [],
   "source": [
    "I_RESIGN = 0\n",
    "I_WIN = 1\n",
    "I_LOSE = 2\n",
    "PLAYING = 3\n",
    "\n",
    "class MENACE:\n",
    "    def __init__(self, name):\n",
    "        self.name = name\n",
    "        self.matchboxes = {}\n",
    "        self.restart()\n",
    "    def restart(self):\n",
    "        self.state = [0]*9\n",
    "        self.history = []\n",
    "    def play(self,i):\n",
    "        if i!=None:\n",
    "            self.state[i] = 1\n",
    "            if winning(self.state,1):\n",
    "                return I_LOSE, None\n",
    "        t = tuple(self.state)\n",
    "        if t not in self.matchboxes:\n",
    "            self.matchboxes[t] = matchbox(t)\n",
    "        box = self.matchboxes[t]\n",
    "        response = box.pick_bead()\n",
    "        if response == None:\n",
    "            return I_RESIGN, None\n",
    "        self.history.append(box)\n",
    "        self.state[response] = 2\n",
    "        if winning(self.state,2):\n",
    "            return I_WIN, response\n",
    "        return PLAYING, response\n",
    "    def reward(self):\n",
    "        for box in self.history:\n",
    "            box.reward()\n",
    "    def punish(self):\n",
    "        while len(self.history)>0 and not self.history.pop().try_punish():\n",
    "            pass"
   ]
  },
  {
   "cell_type": "code",
   "execution_count": 5,
   "metadata": {},
   "outputs": [
    {
     "data": {
      "text/plain": [
       "[<matplotlib.lines.Line2D at 0x1df945da4c8>]"
      ]
     },
     "execution_count": 5,
     "metadata": {},
     "output_type": "execute_result"
    },
    {
     "data": {
      "image/png": "[encoded data removed]",
      "text/plain": [
       "<Figure size 432x288 with 1 Axes>"
      ]
     },
     "metadata": {
      "needs_background": "light"
     },
     "output_type": "display_data"
    }
   ],
   "source": [
    "N_MATCHES = 100000\n",
    "ratios = [0]*N_MATCHES\n",
    "nwins = 0\n",
    "\n",
    "first = MENACE(\"1\")\n",
    "second = MENACE(\"2\")\n",
    "\n",
    "\n",
    "for i in range(N_MATCHES):\n",
    "    first.restart()\n",
    "    second.restart()\n",
    "    current,other = first,second\n",
    "    playing = True\n",
    "    phase, move = current.play(None)\n",
    "    #print(current.name,\"plays\",move)\n",
    "    while phase == PLAYING:\n",
    "        current, other = other, current\n",
    "        phase, move = current.play(move)\n",
    "        #print(other.name,\"plays\",move)\n",
    "        if phase == I_LOSE or phase == I_RESIGN:\n",
    "            current.punish()\n",
    "            other.reward()\n",
    "            if other == first:\n",
    "                nwins+=1\n",
    "        elif phase == I_WIN:\n",
    "            current.reward()\n",
    "            other.punish()\n",
    "            if current == first:\n",
    "                nwins+=1\n",
    "    ratios[i] = nwins/(i+1)\n",
    "    first,second = second,first\n",
    "    \n",
    "plt.plot(ratios)"
   ]
  }
 ],
 "metadata": {
  "kernelspec": {
   "display_name": "Python 3",
   "language": "python",
   "name": "python3"
  },
  "language_info": {
   "codemirror_mode": {
    "name": "ipython",
    "version": 3
   },
   "file_extension": ".py",
   "mimetype": "text/x-python",
   "name": "python",
   "nbconvert_exporter": "python",
   "pygments_lexer": "ipython3",
   "version": "3.7.4"
  }
 },
 "nbformat": 4,
 "nbformat_minor": 4
}
